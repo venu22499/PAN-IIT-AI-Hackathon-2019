{
  "nbformat": 4,
  "nbformat_minor": 0,
  "metadata": {
    "colab": {
      "name": "paniit_team_OneTeam.ipynb",
      "version": "0.3.2",
      "provenance": [],
      "collapsed_sections": []
    },
    "kernelspec": {
      "name": "python3",
      "display_name": "Python 3"
    },
    "accelerator": "GPU"
  },
  "cells": [
    {
      "metadata": {
        "id": "vrFgdLdt1cav",
        "colab_type": "code",
        "colab": {
          "base_uri": "https://localhost:8080/",
          "height": 17
        },
        "outputId": "ff705b20-24a7-45c8-9d93-6c61d8951cfc"
      },
      "cell_type": "code",
      "source": [
        "# Keras\n",
        "from keras.preprocessing.text import Tokenizer\n",
        "from keras.preprocessing.sequence import pad_sequences\n",
        "from keras.models import Sequential\n",
        "from keras.layers import Dense, Flatten, LSTM, Conv1D, MaxPooling1D, Dropout, Activation\n",
        "from keras.layers.embeddings import Embedding\n",
        "## Plotly\n",
        "import plotly.offline as py\n",
        "import plotly.graph_objs as go\n",
        "py.init_notebook_mode(connected=True)\n",
        "# Others\n",
        "import nltk\n",
        "import string\n",
        "import numpy as np\n",
        "import pandas as pd\n",
        "from nltk.corpus import stopwords\n",
        "from sklearn.manifold import TSNE\n",
        "\n",
        "\n",
        "import numpy as np\n",
        "np.random.seed(0)\n",
        "from keras.models import Model\n",
        "from keras.layers import Dense, Input, Dropout, LSTM, Activation\n",
        "from keras.layers.embeddings import Embedding\n",
        "from keras.preprocessing import sequence\n",
        "from keras.initializers import glorot_uniform\n",
        "np.random.seed(1)"
      ],
      "execution_count": 6,
      "outputs": [
        {
          "output_type": "display_data",
          "data": {
            "text/html": [
              "<script>requirejs.config({paths: { 'plotly': ['https://cdn.plot.ly/plotly-latest.min']},});if(!window.Plotly) {{require(['plotly'],function(plotly) {window.Plotly=plotly;});}}</script>"
            ],
            "text/plain": [
              "<IPython.core.display.HTML object>"
            ]
          },
          "metadata": {
            "tags": []
          }
        }
      ]
    },
    {
      "metadata": {
        "id": "DCgEZkQq71db",
        "colab_type": "code",
        "colab": {
          "base_uri": "https://localhost:8080/",
          "height": 127
        },
        "outputId": "a0fe0de7-1d31-4228-dfff-82fc9c047f01"
      },
      "cell_type": "code",
      "source": [
        "from google.colab import drive\n",
        "drive.mount('/content/drive')"
      ],
      "execution_count": 3,
      "outputs": [
        {
          "output_type": "stream",
          "text": [
            "Go to this URL in a browser: https://accounts.google.com/o/oauth2/auth?client_id=947318989803-6bn6qk8qdgf4n4g3pfee6491hc0brc4i.apps.googleusercontent.com&redirect_uri=urn%3Aietf%3Awg%3Aoauth%3A2.0%3Aoob&scope=email%20https%3A%2F%2Fwww.googleapis.com%2Fauth%2Fdocs.test%20https%3A%2F%2Fwww.googleapis.com%2Fauth%2Fdrive%20https%3A%2F%2Fwww.googleapis.com%2Fauth%2Fdrive.photos.readonly%20https%3A%2F%2Fwww.googleapis.com%2Fauth%2Fpeopleapi.readonly&response_type=code\n",
            "\n",
            "Enter your authorization code:\n",
            "··········\n",
            "Mounted at /content/drive\n"
          ],
          "name": "stdout"
        }
      ]
    },
    {
      "metadata": {
        "id": "MgxjllqNAY4f",
        "colab_type": "code",
        "colab": {}
      },
      "cell_type": "code",
      "source": [
        "import numpy as np\n",
        "word_to_index, index_to_word, word_to_vec_map = read_glove_vecs('drive/My Drive/glove.6B.200d.txt') "
      ],
      "execution_count": 0,
      "outputs": []
    },
    {
      "metadata": {
        "id": "ampRFxlaAzlQ",
        "colab_type": "code",
        "colab": {}
      },
      "cell_type": "code",
      "source": [
        "def read_glove_vecs(glove_file):\n",
        "    with open(glove_file, 'r') as f:\n",
        "        words = set()\n",
        "        word_to_vec_map = {}\n",
        "        for line in f:\n",
        "            line = line.strip().split()\n",
        "            curr_word = line[0]\n",
        "            words.add(curr_word)\n",
        "            word_to_vec_map[curr_word] = np.array(line[1:], dtype=np.float64)\n",
        "        \n",
        "        i = 1\n",
        "        words_to_index = {}\n",
        "        index_to_words = {}\n",
        "        for w in sorted(words):\n",
        "            words_to_index[w] = i\n",
        "            index_to_words[i] = w\n",
        "            i = i + 1\n",
        "    return words_to_index, index_to_words, word_to_vec_map"
      ],
      "execution_count": 0,
      "outputs": []
    },
    {
      "metadata": {
        "id": "h5Mt3A3NA92C",
        "colab_type": "code",
        "colab": {
          "base_uri": "https://localhost:8080/",
          "height": 53
        },
        "outputId": "7059158d-1782-47fb-c867-38e9a0823927"
      },
      "cell_type": "code",
      "source": [
        "### CHecking the working of word_to_index and index_to_word\n",
        "word = \"postgraduate\"\n",
        "index = 228777\n",
        "print(\"the index of\", word, \"in the vocabulary is\", word_to_index[word])\n",
        "print(\"the\", str(index) + \"th word in the vocabulary is\", index_to_word[index])"
      ],
      "execution_count": 375,
      "outputs": [
        {
          "output_type": "stream",
          "text": [
            "the index of postgraduate in the vocabulary is 289695\n",
            "the 228777th word in the vocabulary is m.com\n"
          ],
          "name": "stdout"
        }
      ]
    },
    {
      "metadata": {
        "id": "CtDG899oBNM1",
        "colab_type": "code",
        "colab": {}
      },
      "cell_type": "code",
      "source": [
        "### Finally not used\n",
        "def sentence_to_avg(sentence, word_to_vec_map):\n",
        "  \n",
        "    words = sentence.lower().split()\n",
        "    avg = np.zeros(np.size(word_to_vec_map[words[0]]))\n",
        "    for w in words:\n",
        "        avg += word_to_vec_map[w]\n",
        "    avg = avg/len(words)\n",
        "    return avg"
      ],
      "execution_count": 0,
      "outputs": []
    },
    {
      "metadata": {
        "id": "n9tNP3fZBdE1",
        "colab_type": "code",
        "colab": {
          "base_uri": "https://localhost:8080/",
          "height": 647
        },
        "outputId": "73aece1f-e85c-4461-8265-c4ddd96dee4d"
      },
      "cell_type": "code",
      "source": [
        "### Checking above piece of code\n",
        "avg = sentence_to_avg(\"UG\", word_to_vec_map)\n",
        "print(\"avg = \", avg)\n",
        "len(avg)"
      ],
      "execution_count": 22,
      "outputs": [
        {
          "output_type": "stream",
          "text": [
            "avg =  [-0.04734   -0.061418   0.28016    0.25011    0.66352   -0.25791\n",
            "  0.29937   -0.24376   -0.64111    0.45021   -0.54224   -0.28894\n",
            " -0.18066   -0.054409  -0.20085    0.077443   0.064688   0.0384\n",
            "  0.51145    0.1404     0.5524    -0.21728    0.25235   -0.50984\n",
            "  0.47499   -0.47774   -0.27016   -0.27463   -0.42415   -0.63635\n",
            " -0.037956   0.3707    -0.040264  -0.48404    0.35803   -0.0047529\n",
            "  0.48459   -0.086105   0.084618  -0.055723   0.10765   -0.1866\n",
            "  0.1614    -0.47866    0.53266   -0.018869   0.17879   -0.0034171\n",
            "  0.65881   -0.49567   -0.082975  -0.017535   0.32772    0.38446\n",
            " -0.18644    0.37991   -0.22289    0.22942    0.16312    0.13109\n",
            "  0.42933   -0.17329    0.11604    0.68096   -0.18796    0.073183\n",
            "  0.0092278  0.066847   0.026209  -0.03482   -0.40936    0.04531\n",
            " -0.1322    -0.65706   -0.12577   -0.30149    0.46237   -0.55123\n",
            "  0.2612    -0.18326   -0.065977   0.43944    0.14724    0.18109\n",
            " -0.19574   -0.4993    -0.29004   -0.033837  -0.46409    0.36511\n",
            "  0.54648   -0.69986    0.012462  -0.27063    0.074897  -0.4675\n",
            " -0.0042742  0.10923    0.10451   -0.19275    0.10426    0.68338\n",
            "  0.45017    1.0016    -0.20189    0.09231   -0.67846   -1.0455\n",
            "  0.43724    0.22739   -0.44774    0.22796    0.45002    0.0032508\n",
            " -0.10312    0.15683    0.28811    0.092246   0.44166   -0.032016\n",
            "  0.22256   -0.63167   -0.47949   -0.42329   -0.43163    0.20329\n",
            " -0.26296   -0.33537    0.37356    0.33314   -0.60175   -0.53597\n",
            "  0.18961    0.033874  -0.69627   -0.0014093  0.22585    0.1984\n",
            "  0.79654   -0.10988   -0.53425   -0.17684   -0.11618    0.16224\n",
            " -1.2104    -0.41772    0.57063    0.25777    0.24002   -0.26905\n",
            "  0.50606    0.08501   -0.66811   -0.17212   -0.25509    0.47213\n",
            "  0.29848   -0.24172   -0.34243    0.42697   -0.21147   -0.185\n",
            " -0.26391    0.88443   -0.42521    0.21685   -0.51826   -0.26597\n",
            " -0.16853   -0.029134   0.21541    0.44968    0.49042    0.11634\n",
            " -0.33963   -0.30943   -0.20221   -0.22119   -0.043424   0.029174\n",
            " -0.26556    0.19328   -0.26929   -0.20845    0.2093    -0.1248\n",
            " -0.43706   -0.39216    0.018264  -0.15414    0.035151  -0.71017\n",
            "  0.34529    0.22244    0.18633    0.12262    0.29339    0.13405\n",
            " -0.073763  -0.078439 ]\n"
          ],
          "name": "stdout"
        },
        {
          "output_type": "execute_result",
          "data": {
            "text/plain": [
              "200"
            ]
          },
          "metadata": {
            "tags": []
          },
          "execution_count": 22
        }
      ]
    },
    {
      "metadata": {
        "id": "wW6qcUE0GrTB",
        "colab_type": "code",
        "colab": {}
      },
      "cell_type": "code",
      "source": [
        "### returns the sentences to indices conversion\n",
        "def sentences_to_indices(X, word_to_index, max_len):\n",
        "    \n",
        "    m = X.shape[0]                                   # number of training examples\n",
        "    X_indices = np.zeros((m,max_len))\n",
        "    \n",
        "    for i in range(m):                               # loop over training examples\n",
        "        sentence_words =X[i].lower().split()\n",
        "        j = 0\n",
        "        for w in sentence_words:\n",
        "            X_indices[i, j] = word_to_index[w]\n",
        "            j = j+1\n",
        "            \n",
        "    \n",
        "    return X_indices"
      ],
      "execution_count": 0,
      "outputs": []
    },
    {
      "metadata": {
        "id": "A38v5Yz0Gw0H",
        "colab_type": "code",
        "colab": {
          "base_uri": "https://localhost:8080/",
          "height": 251
        },
        "outputId": "3a654bf8-9a8c-47ce-ccb4-dfe4633b1185"
      },
      "cell_type": "code",
      "source": [
        "#### Checking sentences_to_indices function\n",
        "X1 = np.array([\"funny lol\", \"lets play baseball\", \"food is ready for you\"])\n",
        "X1_indices = sentences_to_indices(X1,word_to_index, max_len = 30)\n",
        "print(\"X1 =\", X1)\n",
        "print(\"X1_indices =\", X1_indices)"
      ],
      "execution_count": 19,
      "outputs": [
        {
          "output_type": "stream",
          "text": [
            "X1 = ['funny lol' 'lets play baseball' 'food is ready for you']\n",
            "X1_indices = [[155345. 225122.      0.      0.      0.      0.      0.      0.      0.\n",
            "       0.      0.      0.      0.      0.      0.      0.      0.      0.\n",
            "       0.      0.      0.      0.      0.      0.      0.      0.      0.\n",
            "       0.      0.      0.]\n",
            " [220930. 286375.  69714.      0.      0.      0.      0.      0.      0.\n",
            "       0.      0.      0.      0.      0.      0.      0.      0.      0.\n",
            "       0.      0.      0.      0.      0.      0.      0.      0.      0.\n",
            "       0.      0.      0.]\n",
            " [151204. 192973. 302254. 151349. 394475.      0.      0.      0.      0.\n",
            "       0.      0.      0.      0.      0.      0.      0.      0.      0.\n",
            "       0.      0.      0.      0.      0.      0.      0.      0.      0.\n",
            "       0.      0.      0.]]\n"
          ],
          "name": "stdout"
        }
      ]
    },
    {
      "metadata": {
        "id": "jdUHNgJLG1O6",
        "colab_type": "code",
        "colab": {}
      },
      "cell_type": "code",
      "source": [
        "### Embedding layer output is returned\n",
        "def pretrained_embedding_layer(word_to_vec_map, word_to_index):\n",
        "    vocab_len = len(word_to_index) + 1                  # adding 1 to fit Keras embedding (requirement)\n",
        "    emb_dim = word_to_vec_map[\"cucumber\"].shape[0]     \n",
        "    emb_matrix = np.zeros((vocab_len,emb_dim))\n",
        "    for word, index in word_to_index.items():\n",
        "        emb_matrix[index, :] = word_to_vec_map[word]\n",
        "    embedding_layer = Embedding(input_dim = vocab_len, output_dim = emb_dim,trainable = False)\n",
        "    embedding_layer.build((None,))\n",
        "    embedding_layer.set_weights([emb_matrix])\n",
        "    \n",
        "    return embedding_layer"
      ],
      "execution_count": 0,
      "outputs": []
    },
    {
      "metadata": {
        "id": "-qxdm2VRHX2U",
        "colab_type": "code",
        "colab": {}
      },
      "cell_type": "code",
      "source": [
        "from keras.layers import Bidirectional, Sequential\n",
        "def classify(input_shape, word_to_vec_map, word_to_index):\n",
        "    sentence_indices = Input(input_shape, dtype='int32')\n",
        "    embedding_layer = pretrained_embedding_layer(word_to_vec_map, word_to_index)\n",
        "    embeddings = embedding_layer(sentence_indices)   \n",
        "    X = LSTM(32, return_sequences=True)(embeddings)\n",
        "    #X = Dropout(0.5)(X)\n",
        "    X = LSTM(32, return_sequences=False)(X)\n",
        "    #X = Dropout(0.5)(X)\n",
        "    X = Dense(10)(X)\n",
        "    X = Activation('softmax')(X)\n",
        "\n",
        "    model = Model(inputs=sentence_indices, outputs=X)\n",
        "    return model"
      ],
      "execution_count": 0,
      "outputs": []
    },
    {
      "metadata": {
        "id": "bAozG7ReHemH",
        "colab_type": "code",
        "colab": {
          "base_uri": "https://localhost:8080/",
          "height": 359
        },
        "outputId": "db7fe847-980a-453c-9778-9dac5444a029"
      },
      "cell_type": "code",
      "source": [
        "model = classify((10,), word_to_vec_map, word_to_index)\n",
        "model.summary()"
      ],
      "execution_count": 396,
      "outputs": [
        {
          "output_type": "stream",
          "text": [
            "_________________________________________________________________\n",
            "Layer (type)                 Output Shape              Param #   \n",
            "=================================================================\n",
            "input_17 (InputLayer)        (None, 10)                0         \n",
            "_________________________________________________________________\n",
            "embedding_18 (Embedding)     (None, 10, 200)           80000200  \n",
            "_________________________________________________________________\n",
            "lstm_30 (LSTM)               (None, 10, 32)            29824     \n",
            "_________________________________________________________________\n",
            "lstm_31 (LSTM)               (None, 32)                8320      \n",
            "_________________________________________________________________\n",
            "dense_15 (Dense)             (None, 10)                330       \n",
            "_________________________________________________________________\n",
            "activation_15 (Activation)   (None, 10)                0         \n",
            "=================================================================\n",
            "Total params: 80,038,674\n",
            "Trainable params: 38,474\n",
            "Non-trainable params: 80,000,200\n",
            "_________________________________________________________________\n"
          ],
          "name": "stdout"
        }
      ]
    },
    {
      "metadata": {
        "id": "C7MvuJmQ0BxX",
        "colab_type": "code",
        "colab": {}
      },
      "cell_type": "code",
      "source": [
        "def convert_to_one_hot(Y, C):\n",
        "    Y = np.eye(C)[Y.reshape(-1)]\n",
        "    return Y"
      ],
      "execution_count": 0,
      "outputs": []
    },
    {
      "metadata": {
        "id": "2DmoTm3THidc",
        "colab_type": "code",
        "colab": {}
      },
      "cell_type": "code",
      "source": [
        "model.compile(loss='categorical_crossentropy', optimizer='adam', metrics=['accuracy'])"
      ],
      "execution_count": 0,
      "outputs": []
    },
    {
      "metadata": {
        "id": "0OCNBDD4HqUc",
        "colab_type": "code",
        "colab": {}
      },
      "cell_type": "code",
      "source": [
        "import pandas\n",
        "import re\n",
        "from operator import itemgetter\n",
        "df = pandas.read_csv('drive/My Drive/naukri_com-job_sample.csv')\n",
        "Y = {}\n",
        "Y_num = {}\n",
        "top_Y = {}\n",
        "X = []\n",
        "pred = []\n",
        "ind = 0\n",
        "# print(df['education'][0].lower()) \n",
        "\n",
        "for i in range(21999) :\n",
        "  y = df['industry'][i]\n",
        "  if(type(y) == str) :\n",
        "    if y not in Y :\n",
        "      Y[y] = ind\n",
        "      Y_num[y] = 1\n",
        "      ind += 1\n",
        "    else :\n",
        "      Y_num[y] += 1 \n",
        "\n",
        "\n",
        "so_li = sorted(Y_num.items() , key = itemgetter(1))\n",
        "ind = 0\n",
        "for i in range(10) :\n",
        "  top_Y[so_li[-i-1][0]] = ind\n",
        "  ind+=1\n",
        "  \n",
        "  \n",
        "for i in range(21999) :\n",
        "  y = df['industry'][i]\n",
        "  s = df['education'][i]\n",
        "  if(type(s) == str and type(y) == str and y in top_Y) :\n",
        "    s = s.lower()\n",
        "    s = s.replace('ug:' , 'undergraduate').replace('pg:' , 'postgraduate ').replace('doctorate:' , 'doctorate ').replace('(',' ').replace(')', ' ').replace('bhm','').replace('b.pharma', 'pharma').replace('b.b.a', 'business').replace('b.m.s','management').replace('gyneocology','gynaecology').replace('obstretrics','obstetrics').replace('opthalmology','ophthalmology').replace('m.pharma', 'pharma').replace('mvsc','Veterinary').replace('b.des.','design').replace('arts&humanities','arts humanities').replace('any specialization','').replace('any graduate','').replace('any postgraduate','')\n",
        "    k = s.replace(',',' ').replace('-',' ').replace('/' , ' ').split()\n",
        "    #k = list(set(k))\n",
        "    if len(k) <= 30 :\n",
        "      X.append(\" \".join(k))\n",
        "      pred.append(top_Y[y])\n",
        "\n",
        "      \n",
        "pred = np.array(pred)"
      ],
      "execution_count": 0,
      "outputs": []
    },
    {
      "metadata": {
        "id": "WbndaK7I1xeD",
        "colab_type": "code",
        "colab": {
          "base_uri": "https://localhost:8080/",
          "height": 145
        },
        "outputId": "1141c9df-7e21-42e7-f597-b09ec56404f6"
      },
      "cell_type": "code",
      "source": [
        "print(len(pred))\n",
        "print(len(X))\n",
        "print(pred[0:100])\n",
        "print(top_Y)"
      ],
      "execution_count": 319,
      "outputs": [
        {
          "output_type": "stream",
          "text": [
            "15094\n",
            "15094\n",
            "[0 3 0 0 0 0 0 0 0 0 0 4 0 0 0 0 3 3 5 0 0 2 0 6 0 0 0 0 0 0 0 0 0 3 0 0 5\n",
            " 0 0 0 5 4 5 2 0 3 1 0 0 8 0 0 4 0 5 0 0 4 3 4 0 4 4 0 0 4 0 0 6 1 0 0 0 3\n",
            " 0 0 4 0 0 6 0 4 7 2 1 3 1 0 4 9 3 1 2 4 2 7 0 0 1 3]\n",
            "{'IT-Software / Software Services': 0, 'Education / Teaching / Training': 1, 'BPO / Call Centre / ITES': 2, 'Banking / Financial Services / Broking': 3, 'Recruitment / Staffing': 4, 'Internet / Ecommerce': 5, 'Pharma / Biotech / Clinical Research': 6, 'Medical / Healthcare / Hospitals': 7, 'Automobile / Auto Anciliary / Auto Components': 8, 'Construction / Engineering / Cement / Metals': 9}\n"
          ],
          "name": "stdout"
        }
      ]
    },
    {
      "metadata": {
        "id": "eAPL-vLou_ei",
        "colab_type": "code",
        "colab": {}
      },
      "cell_type": "code",
      "source": [
        "X_ = np.array(X[0:10000])\n",
        "X_train_indices = sentences_to_indices(X_, wor1d_to_index, 30)\n",
        "Y_train_oh = convert_to_one_hot(np.array(pred[0:10000]), C = 10)"
      ],
      "execution_count": 0,
      "outputs": []
    },
    {
      "metadata": {
        "id": "2RjTG3i9lea1",
        "colab_type": "code",
        "colab": {}
      },
      "cell_type": "code",
      "source": [
        "model.fit(X_train_indices, Y_train_oh, epochs = 10, batch_size = 32, shuffle=True)"
      ],
      "execution_count": 0,
      "outputs": []
    },
    {
      "metadata": {
        "id": "w4Rlof7ZG70W",
        "colab_type": "code",
        "colab": {}
      },
      "cell_type": "code",
      "source": [
        "from keras.models import load_model\n",
        "model.save('drive/My Drive/my_model.h5')\n",
        "model = load_model('drive/My Drive/my_model.h5')"
      ],
      "execution_count": 0,
      "outputs": []
    },
    {
      "metadata": {
        "id": "FRKWd5YGu372",
        "colab_type": "code",
        "colab": {}
      },
      "cell_type": "code",
      "source": [
        "def output(s,model,dictt):\n",
        "  s = sentences_to_indices(s, word_to_index, 30)\n",
        "  out = model.predict(s)\n",
        "  print(out)\n",
        "  return dictt[np.argmax(out)]"
      ],
      "execution_count": 0,
      "outputs": []
    },
    {
      "metadata": {
        "id": "tHrELK2vIEux",
        "colab_type": "code",
        "colab": {
          "base_uri": "https://localhost:8080/",
          "height": 197
        },
        "outputId": "dd7ce589-d710-4dc7-abdd-9c0b80688dc8"
      },
      "cell_type": "code",
      "source": [
        "rev_y = dict([(top_Y[k],k) for k in top_Y])\n",
        "rev_y"
      ],
      "execution_count": 30,
      "outputs": [
        {
          "output_type": "execute_result",
          "data": {
            "text/plain": [
              "{0: 'IT-Software / Software Services',\n",
              " 1: 'Education / Teaching / Training',\n",
              " 2: 'BPO / Call Centre / ITES',\n",
              " 3: 'Banking / Financial Services / Broking',\n",
              " 4: 'Recruitment / Staffing',\n",
              " 5: 'Internet / Ecommerce',\n",
              " 6: 'Pharma / Biotech / Clinical Research',\n",
              " 7: 'Medical / Healthcare / Hospitals',\n",
              " 8: 'Automobile / Auto Anciliary / Auto Components',\n",
              " 9: 'Construction / Engineering / Cement / Metals'}"
            ]
          },
          "metadata": {
            "tags": []
          },
          "execution_count": 30
        }
      ]
    },
    {
      "metadata": {
        "id": "8foiCG1OKKRA",
        "colab_type": "code",
        "colab": {}
      },
      "cell_type": "code",
      "source": [
        "import csv\n",
        "with open('drive/My Drive/dictionary2.csv', 'w') as f:\n",
        "    for key in rev_y:\n",
        "        f.write(\"%s,%s\\n\"%(key , rev_y[key]))"
      ],
      "execution_count": 0,
      "outputs": []
    },
    {
      "metadata": {
        "id": "GUj7CQ62CcCQ",
        "colab_type": "code",
        "colab": {
          "base_uri": "https://localhost:8080/",
          "height": 35
        },
        "outputId": "1f004709-f28e-4282-d8c3-c619bab181ae"
      },
      "cell_type": "code",
      "source": [
        "from keras.models import load_model\n",
        "model = load_model('drive/My Drive/my_model2.h5')\n",
        "X_train_indices = sentences_to_indices(np.array(['undergraduate b.tech mechanical']), word_to_index, 10)\n",
        "predictions = model.predict(X_train_indices)\n",
        "index = np.argmax(predictions)\n",
        "print(rev_y[index])\n",
        "\n",
        "### THe down is the output"
      ],
      "execution_count": 34,
      "outputs": [
        {
          "output_type": "stream",
          "text": [
            "Automobile / Auto Anciliary / Auto Components\n"
          ],
          "name": "stdout"
        }
      ]
    },
    {
      "metadata": {
        "id": "TIhKeJtvu3d8",
        "colab_type": "code",
        "colab": {
          "base_uri": "https://localhost:8080/",
          "height": 35
        },
        "outputId": "7edeca40-386f-4e02-d63a-1a9ca142b7c9"
      },
      "cell_type": "code",
      "source": [
        "### Index value of given input\n",
        "index"
      ],
      "execution_count": 26,
      "outputs": [
        {
          "output_type": "execute_result",
          "data": {
            "text/plain": [
              "8"
            ]
          },
          "metadata": {
            "tags": []
          },
          "execution_count": 26
        }
      ]
    }
  ]
}